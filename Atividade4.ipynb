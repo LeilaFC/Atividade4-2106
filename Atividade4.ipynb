{
 "cells": [
  {
   "cell_type": "code",
   "execution_count": 1,
   "id": "c848940d-3c45-4151-8136-dbd5410e79ec",
   "metadata": {},
   "outputs": [],
   "source": [
    "import numpy\n",
    "import pandas\n",
    "import csv\n",
    "import pandas as pd "
   ]
  },
  {
   "cell_type": "code",
   "execution_count": 2,
   "id": "fe8e942f-50a4-459a-a08e-6fae69c0ea55",
   "metadata": {},
   "outputs": [
    {
     "data": {
      "text/html": [
       "<div>\n",
       "<style scoped>\n",
       "    .dataframe tbody tr th:only-of-type {\n",
       "        vertical-align: middle;\n",
       "    }\n",
       "\n",
       "    .dataframe tbody tr th {\n",
       "        vertical-align: top;\n",
       "    }\n",
       "\n",
       "    .dataframe thead th {\n",
       "        text-align: right;\n",
       "    }\n",
       "</style>\n",
       "<table border=\"1\" class=\"dataframe\">\n",
       "  <thead>\n",
       "    <tr style=\"text-align: right;\">\n",
       "      <th></th>\n",
       "      <th>ANO_CONCESSAO_BOLSA</th>\n",
       "      <th>CODIGO_EMEC_IES_BOLSA</th>\n",
       "      <th>NOME_IES_BOLSA</th>\n",
       "      <th>TIPO_BOLSA</th>\n",
       "      <th>MODALIDADE_ENSINO_BOLSA</th>\n",
       "      <th>NOME_CURSO_BOLSA</th>\n",
       "      <th>NOME_TURNO_CURSO_BOLSA</th>\n",
       "      <th>CPF_BENEFICIARIO_BOLSA</th>\n",
       "      <th>SEXO_BENEFICIARIO_BOLSA</th>\n",
       "      <th>RACA_BENEFICIARIO_BOLSA</th>\n",
       "      <th>DT_NASCIMENTO_BENEFICIARIO</th>\n",
       "      <th>BENEFICIARIO_DEFICIENTE_FISICO</th>\n",
       "      <th>REGIAO_BENEFICIARIO_BOLSA</th>\n",
       "      <th>SIGLA_UF_BENEFICIARIO_BOLSA</th>\n",
       "      <th>MUNICIPIO_BENEFICIARIO_BOLSA</th>\n",
       "    </tr>\n",
       "  </thead>\n",
       "  <tbody>\n",
       "    <tr>\n",
       "      <th>0</th>\n",
       "      <td>2019.0</td>\n",
       "      <td>10.0</td>\n",
       "      <td>PONTIFÍCIA UNIVERSIDADE CATÓLICA DO PARANÁ</td>\n",
       "      <td>BOLSA INTEGRAL</td>\n",
       "      <td>EAD</td>\n",
       "      <td>Administração</td>\n",
       "      <td>Curso a distância</td>\n",
       "      <td>***03183970**</td>\n",
       "      <td>M</td>\n",
       "      <td>Branca</td>\n",
       "      <td>19/08/1993</td>\n",
       "      <td>N</td>\n",
       "      <td>Sul</td>\n",
       "      <td>PR</td>\n",
       "      <td>LONDRINA</td>\n",
       "    </tr>\n",
       "    <tr>\n",
       "      <th>1</th>\n",
       "      <td>2019.0</td>\n",
       "      <td>10.0</td>\n",
       "      <td>PONTIFÍCIA UNIVERSIDADE CATÓLICA DO PARANÁ</td>\n",
       "      <td>BOLSA INTEGRAL</td>\n",
       "      <td>EAD</td>\n",
       "      <td>Administração</td>\n",
       "      <td>Curso a distância</td>\n",
       "      <td>***92848904**</td>\n",
       "      <td>F</td>\n",
       "      <td>Branca</td>\n",
       "      <td>03/11/1999</td>\n",
       "      <td>N</td>\n",
       "      <td>Sul</td>\n",
       "      <td>PR</td>\n",
       "      <td>SAO JOSE DOS PINHAIS</td>\n",
       "    </tr>\n",
       "    <tr>\n",
       "      <th>2</th>\n",
       "      <td>2019.0</td>\n",
       "      <td>10.0</td>\n",
       "      <td>PONTIFÍCIA UNIVERSIDADE CATÓLICA DO PARANÁ</td>\n",
       "      <td>BOLSA INTEGRAL</td>\n",
       "      <td>EAD</td>\n",
       "      <td>Análise E Desenvolvimento De Sistemas</td>\n",
       "      <td>Curso a distância</td>\n",
       "      <td>***12457929**</td>\n",
       "      <td>M</td>\n",
       "      <td>Parda</td>\n",
       "      <td>02/04/1999</td>\n",
       "      <td>N</td>\n",
       "      <td>Sul</td>\n",
       "      <td>PR</td>\n",
       "      <td>QUATRO BARRAS</td>\n",
       "    </tr>\n",
       "  </tbody>\n",
       "</table>\n",
       "</div>"
      ],
      "text/plain": [
       "   ANO_CONCESSAO_BOLSA  CODIGO_EMEC_IES_BOLSA  \\\n",
       "0               2019.0                   10.0   \n",
       "1               2019.0                   10.0   \n",
       "2               2019.0                   10.0   \n",
       "\n",
       "                               NOME_IES_BOLSA      TIPO_BOLSA  \\\n",
       "0  PONTIFÍCIA UNIVERSIDADE CATÓLICA DO PARANÁ  BOLSA INTEGRAL   \n",
       "1  PONTIFÍCIA UNIVERSIDADE CATÓLICA DO PARANÁ  BOLSA INTEGRAL   \n",
       "2  PONTIFÍCIA UNIVERSIDADE CATÓLICA DO PARANÁ  BOLSA INTEGRAL   \n",
       "\n",
       "  MODALIDADE_ENSINO_BOLSA                       NOME_CURSO_BOLSA  \\\n",
       "0                     EAD                          Administração   \n",
       "1                     EAD                          Administração   \n",
       "2                     EAD  Análise E Desenvolvimento De Sistemas   \n",
       "\n",
       "  NOME_TURNO_CURSO_BOLSA CPF_BENEFICIARIO_BOLSA SEXO_BENEFICIARIO_BOLSA  \\\n",
       "0      Curso a distância          ***03183970**                       M   \n",
       "1      Curso a distância          ***92848904**                       F   \n",
       "2      Curso a distância          ***12457929**                       M   \n",
       "\n",
       "  RACA_BENEFICIARIO_BOLSA DT_NASCIMENTO_BENEFICIARIO  \\\n",
       "0                  Branca                 19/08/1993   \n",
       "1                  Branca                 03/11/1999   \n",
       "2                   Parda                 02/04/1999   \n",
       "\n",
       "  BENEFICIARIO_DEFICIENTE_FISICO REGIAO_BENEFICIARIO_BOLSA  \\\n",
       "0                              N                       Sul   \n",
       "1                              N                       Sul   \n",
       "2                              N                       Sul   \n",
       "\n",
       "  SIGLA_UF_BENEFICIARIO_BOLSA MUNICIPIO_BENEFICIARIO_BOLSA  \n",
       "0                          PR                     LONDRINA  \n",
       "1                          PR         SAO JOSE DOS PINHAIS  \n",
       "2                          PR                QUATRO BARRAS  "
      ]
     },
     "execution_count": 2,
     "metadata": {},
     "output_type": "execute_result"
    }
   ],
   "source": [
    "#1\n",
    "arquivo = \"pda-prouni-2019.csv\"  \n",
    "df = pd.read_csv(arquivo, sep=';')\n",
    "df.head(3) "
   ]
  },
  {
   "cell_type": "code",
   "execution_count": 14,
   "id": "26b21e6f-0d61-4b81-a824-797537048a8c",
   "metadata": {},
   "outputs": [
    {
     "name": "stdout",
     "output_type": "stream",
     "text": [
      "Média das idades de nascimento dos beneficiários:  1996\n"
     ]
    }
   ],
   "source": [
    "#2\n",
    "df = pd.read_csv(arquivo, sep=';', parse_dates=['DT_NASCIMENTO_BENEFICIARIO'], dayfirst=True)\n",
    "def obter_media_idades(df):\n",
    "    idades = pd.to_datetime(df['DT_NASCIMENTO_BENEFICIARIO']).dt.year\n",
    "    media_idades = idades.mean()\n",
    "    return media_idades\n",
    "media = obter_media_idades(df)\n",
    "media_arredondada = round(media, )\n",
    "print(\"Média das idades de nascimento dos beneficiários: \", media_arredondada)"
   ]
  },
  {
   "cell_type": "code",
   "execution_count": 13,
   "id": "541c8906-4ba8-4ce8-aacf-ce8b48b95940",
   "metadata": {},
   "outputs": [
    {
     "name": "stdout",
     "output_type": "stream",
     "text": [
      "Quantidade de beneficiários que nasceram no ano da média ou são mais velhos: 83005\n"
     ]
    }
   ],
   "source": [
    "#3\n",
    "def contar_beneficiarios_idade(df, media_arredondada):\n",
    "    contador = 0\n",
    "    for data_nascimento in df['DT_NASCIMENTO_BENEFICIARIO']:\n",
    "        ano_nascimento = pd.to_datetime(data_nascimento, format='%d/%m/%Y').year\n",
    "        if ano_nascimento <= media_arredondada:\n",
    "            contador += 1\n",
    "    return contador\n",
    "uantidade_beneficiarios = contar_beneficiarios_idade(df, media_arredondada)\n",
    "\n",
    "print(\"Quantidade de beneficiários que nasceram no ano da média ou são mais velhos:\", quantidade_beneficiarios)"
   ]
  },
  {
   "cell_type": "code",
   "execution_count": 25,
   "id": "edf820c5-c4d4-43aa-87e2-483b0ac29cf3",
   "metadata": {},
   "outputs": [
    {
     "name": "stdout",
     "output_type": "stream",
     "text": [
      "Número de beneficiários masculinos: 94187\n",
      "Número de beneficiários femininos: 131368\n"
     ]
    }
   ],
   "source": [
    "#4\n",
    "def contar_beneficiarios_masculinos(df):\n",
    "    filtro = lambda row: row[1]['SEXO_BENEFICIARIO_BOLSA'] == 'M'\n",
    "    beneficiarios_masculinos = filter(filtro, df.iterrows())\n",
    "    return sum(1 for _ in beneficiarios_masculinos)\n",
    "\n",
    "def contar_beneficiarios_femininos(df):\n",
    "    filtro = lambda row: row[1]['SEXO_BENEFICIARIO_BOLSA'] == 'F'\n",
    "    beneficiarios_femininos = filter(filtro, df.iterrows())\n",
    "    return sum(1 for _ in beneficiarios_femininos)\n",
    "\n",
    "num_beneficiarios_masculinos = contar_beneficiarios_masculinos(df)\n",
    "num_beneficiarios_femininos = contar_beneficiarios_femininos(df)\n",
    "\n",
    "print(\"Número de beneficiários masculinos:\", num_beneficiarios_masculinos)\n",
    "print(\"Número de beneficiários femininos:\", num_beneficiarios_femininos)"
   ]
  },
  {
   "cell_type": "code",
   "execution_count": 26,
   "id": "8eb0afec-2c07-45ec-9a7e-9460763737d5",
   "metadata": {},
   "outputs": [
    {
     "name": "stdout",
     "output_type": "stream",
     "text": [
      "Total de beneficiários: 225555\n"
     ]
    }
   ],
   "source": [
    "#5\n",
    "total_beneficiarios = sum([num_beneficiarios_masculinos, num_beneficiarios_femininos])\n",
    "print(\"Total de beneficiários:\", total_beneficiarios)"
   ]
  },
  {
   "cell_type": "code",
   "execution_count": null,
   "id": "f057d683-b570-4b60-a730-3792c97ccc65",
   "metadata": {},
   "outputs": [],
   "source": []
  }
 ],
 "metadata": {
  "kernelspec": {
   "display_name": "Python 3 (ipykernel)",
   "language": "python",
   "name": "python3"
  },
  "language_info": {
   "codemirror_mode": {
    "name": "ipython",
    "version": 3
   },
   "file_extension": ".py",
   "mimetype": "text/x-python",
   "name": "python",
   "nbconvert_exporter": "python",
   "pygments_lexer": "ipython3",
   "version": "3.10.9"
  }
 },
 "nbformat": 4,
 "nbformat_minor": 5
}
